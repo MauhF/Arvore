{
  "nbformat": 4,
  "nbformat_minor": 0,
  "metadata": {
    "colab": {
      "provenance": [],
      "authorship_tag": "ABX9TyObE/EuOyTkRo73NGRNPCDA",
      "include_colab_link": true
    },
    "kernelspec": {
      "name": "python3",
      "display_name": "Python 3"
    },
    "language_info": {
      "name": "python"
    }
  },
  "cells": [
    {
      "cell_type": "markdown",
      "metadata": {
        "id": "view-in-github",
        "colab_type": "text"
      },
      "source": [
        "<a href=\"https://colab.research.google.com/github/MauhF/Arvore/blob/main/Arvore_Binaria.ipynb\" target=\"_parent\"><img src=\"https://colab.research.google.com/assets/colab-badge.svg\" alt=\"Open In Colab\"/></a>"
      ]
    },
    {
      "cell_type": "code",
      "source": [
        "class Node:\n",
        "    def __init__(self, data):\n",
        "        self.data = data\n",
        "        self.left = None\n",
        "        self.right = None\n",
        "    def __str__(self):\n",
        "        return str(self.data)\n",
        "\n",
        "class Tree:\n",
        "    def __init__(self, root):\n",
        "        self.root = Node(root)\n",
        "\n",
        "if __name__ == \"__main__\":\n",
        "    tree = Tree(1)\n",
        "    tree.root.left = Node(2)\n",
        "    tree.root.right = Node(3)\n",
        "\n",
        "    print(tree.root)\n",
        "    print(tree.root.left)\n",
        "    print(tree.root.right)"
      ],
      "metadata": {
        "id": "rKRVOp3YECu-",
        "outputId": "73e74e64-dd49-4c3d-f4f9-1096a066bcdf",
        "colab": {
          "base_uri": "https://localhost:8080/"
        }
      },
      "execution_count": 50,
      "outputs": [
        {
          "output_type": "stream",
          "name": "stdout",
          "text": [
            "1\n",
            "2\n",
            "3\n"
          ]
        }
      ]
    }
  ]
}